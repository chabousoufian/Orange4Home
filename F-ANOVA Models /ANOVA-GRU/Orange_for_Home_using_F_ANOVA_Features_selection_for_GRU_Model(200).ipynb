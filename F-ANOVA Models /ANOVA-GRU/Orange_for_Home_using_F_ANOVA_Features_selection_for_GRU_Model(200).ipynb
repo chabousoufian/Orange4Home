{
  "nbformat": 4,
  "nbformat_minor": 0,
  "metadata": {
    "colab": {
      "provenance": []
    },
    "kernelspec": {
      "name": "python3",
      "display_name": "Python 3"
    },
    "language_info": {
      "name": "python"
    },
    "accelerator": "GPU",
    "gpuClass": "standard"
  },
  "cells": [
    {
      "cell_type": "code",
      "execution_count": 246,
      "metadata": {
        "colab": {
          "base_uri": "https://localhost:8080/"
        },
        "id": "5EVz8w2YKnr2",
        "outputId": "265826fa-489f-4075-f4e7-235ae16ef08c"
      },
      "outputs": [
        {
          "output_type": "stream",
          "name": "stdout",
          "text": [
            "Drive already mounted at /content/drive; to attempt to forcibly remount, call drive.mount(\"/content/drive\", force_remount=True).\n"
          ]
        }
      ],
      "source": [
        "import pandas as pd\n",
        "import numpy as np\n",
        "from sklearn.model_selection import train_test_split\n",
        "from keras.models import Sequential\n",
        "from keras.layers import Dense, Dropout\n",
        "from keras.optimizers import RMSprop, SGD\n",
        "# Plot\n",
        "import matplotlib.pyplot as plt\n",
        "\n",
        "from google.colab import drive\n",
        "drive.mount('/content/drive')\n",
        "\n",
        "import os\n",
        "\n",
        "path = '/content/drive/My Drive/Orange4Home/sensor_data_processed_normalizing_the_label_with_hot_encoding_timestamps_normalizing.csv'\n",
        "\n",
        "data = pd.read_csv(path, index_col='Time',parse_dates=True)\n",
        "\n",
        "training_labels = ['Timestamps','bedroom_switch_middle_left',\n",
        " 'entrance_heater_effective_setpoint',\n",
        " 'bedroom_switch_middle_right',\n",
        " 'kitchen_noise',\n",
        " 'livingroom_couch_plug_consumption',\n",
        " 'global_snow_ext',\n",
        " 'bedroom_heater1_effective_setpoint',\n",
        " 'global_lighting_power',\n",
        " 'livingroom_heater2_base_setpoint',\n",
        " 'kitchen_dishwasher_current',\n",
        " 'toilet_coldwater_total',\n",
        " 'kitchen_hood_voltage',\n",
        " 'kitchen_washingmachine_partial_energy',\n",
        " 'walkway_switch2_bottom_left',\n",
        " 'livingroom_shutter5',\n",
        " 'kitchen_hood_total_energy',\n",
        " 'bathroom_heater_command',\n",
        " 'walkway_noise',\n",
        " 'entrance_noise',\n",
        " 'livingroom_shutter4',\n",
        " 'livingroom_switch2_top_left',\n",
        " 'global_rain_ext',\n",
        " 'global_wind_speed_ext',\n",
        " 'global_waterheater_total_energy',\n",
        " 'global_lighting_current',\n",
        " 'livingroom_heater2_temperature',\n",
        " 'livingroom_tv_status',\n",
        " 'office_tv_plug_consumption',\n",
        " 'kitchen_fridge_power',\n",
        " 'bedroom_closet_door',\n",
        " 'bathroom_luminosity',\n",
        " 'livingroom_tv_plug_consumption',\n",
        " 'office_AC_setpoint',\n",
        " 'bathroom_switch_bottom_right',\n",
        " 'bedroom_light4',\n",
        " 'office_heater_effective_mode',\n",
        " 'global_lighting_total_energy',\n",
        " 'kitchen_cupboard3',\n",
        " 'toilet_switch_left',\n",
        " 'entrance_heater_base_setpoint',\n",
        " 'office_heater_command',\n",
        " 'bedroom_light2',\n",
        " 'livingroom_table_luminosity',\n",
        " 'global_voltage',\n",
        " 'bedroom_temperature',\n",
        " 'kitchen_fridge_door',\n",
        " 'bathroom_sink_coldwater_total',\n",
        " 'global_lighting_partial_energy',\n",
        " 'livingroom_couch_noise',\n",
        " 'global_temperature_feel_ext',\n",
        " 'livingroom_humidity',\n",
        " 'kitchen_oven_current',\n",
        " 'livingroom_presence_table',\n",
        " 'bathroom_switch_bottom_left',\n",
        " 'livingroom_heater1_command',\n",
        " 'staircase_light',\n",
        " 'office_noise',\n",
        " 'kitchen_sink_hotwater_total',\n",
        " 'bathroom_switch_top_right',\n",
        " 'bedroom_switch_bottom_left',\n",
        " 'livingroom_presence_couch',\n",
        " 'livingroom_heater2_effective_setpoint',\n",
        " 'bedroom_presence',\n",
        " 'toilet_switch_right',\n",
        " 'bedroom_humidity',\n",
        " 'livingroom_heater1_effective_mode',\n",
        " 'bedroom_heater2_effective_setpoint',\n",
        " 'livingroom_heater2_command',\n",
        " 'bedroom_shutter1',\n",
        " 'global_active_power',\n",
        " 'walkway_switch1_bottom_left',\n",
        " 'kitchen_hood_current',\n",
        " 'entrance_heater_temperature',\n",
        " 'bedroom_CO2',\n",
        " 'livingroom_table_plug_consumption',\n",
        " 'bathroom_CO2',\n",
        " 'bathroom_temperature',\n",
        " 'bedroom_drawer1',\n",
        " 'office_switch_right',\n",
        " 'global_heaters_temperature',\n",
        " 'global_waterheater_current',\n",
        " 'kitchen_dishwasher_voltage',\n",
        " 'global_shutters_voltage',\n",
        " 'walkway_switch1_bottom_right',\n",
        " 'livingroom_heater1_effective_setpoint',\n",
        " 'livingroom_light1',\n",
        " 'bathroom_heater_temperature',\n",
        " 'kitchen_cooktop_current',\n",
        " 'entrance_switch_left',\n",
        " 'toilet_coldwater_instantaneous',\n",
        " 'kitchen_oven_voltage',\n",
        " 'bathroom_sink_hotwater_instantaneous',\n",
        " 'staircase_switch_right',\n",
        " 'kitchen_sink_coldwater_instantaneous',\n",
        " 'livingroom_heater2_effective_mode',\n",
        " 'office_tv_status',\n",
        " 'global_shutters_current',\n",
        " 'kitchen_fridge_current',\n",
        " 'kitchen_washingmachine_total_energy',\n",
        " 'bedroom_shutter2',\n",
        " 'bathroom_light2',\n",
        " 'global_waterheater_partial_energy',\n",
        " 'global_frequency',\n",
        " 'kitchen_switch_bottom_right',\n",
        " 'bedroom_door',\n",
        " 'kitchen_luminosity',\n",
        " 'bedroom_heater2_command',\n",
        " 'entrance_heater_command',\n",
        " 'global_pressure_ext',\n",
        " 'kitchen_oven_partial_energy',\n",
        " 'global_shutters_power',\n",
        " 'office_luminosity',\n",
        " 'kitchen_cooktop_total_energy',\n",
        " 'kitchen_washingmachine_voltage',\n",
        " 'bathroom_light1',\n",
        " 'bedroom_luminosity',\n",
        " 'office_presence',\n",
        " 'bathroom_heater_effective_setpoint',\n",
        " 'bathroom_shower_hotwater_instantaneous',\n",
        " 'livingroom_switch1_top_left',\n",
        " 'bathroom_humidity',\n",
        " 'kitchen_cupboard5',\n",
        " 'bathroom_shower_coldwater_total',\n",
        " 'bathroom_shower_coldwater_instantaneous',\n",
        " 'office_window',\n",
        " 'kitchen_switch_bottom_left',\n",
        " 'kitchen_dishwasher_partial_energy',\n",
        " 'kitchen_fridge_voltage',\n",
        " 'office_heater_effective_setpoint',\n",
        " 'office_heater_temperature',\n",
        " 'livingroom_window1',\n",
        " 'bathroom_sink_hotwater_total',\n",
        " 'kitchen_cooktop_voltage',\n",
        " 'kitchen_hood_power',\n",
        " 'kitchen_sink_hotwater_instantaneous',\n",
        " 'global_current',\n",
        " 'global_condition_id_ext',\n",
        " 'livingroom_switch1_top_right',\n",
        " 'office_AC_mode',\n",
        " 'bedroom_heater2_effective_mode',\n",
        " 'walkway_light',\n",
        " 'bathroom_door',\n",
        " 'global_clouds_ext',\n",
        " 'global_shutters_total_energy',\n",
        " 'bedroom_heater1_effective_mode',\n",
        " 'bedroom_light1',\n",
        " 'kitchen_cupboard1',\n",
        " 'livingroom_temperature',\n",
        " 'livingroom_CO2',\n",
        " 'global_shutters_partial_energy',\n",
        " 'bathroom_shower_hotwater_total',\n",
        " 'kitchen_switch_top_right',\n",
        " 'kitchen_cooktop_partial_energy',\n",
        " 'global_waterheater_power',\n",
        " 'kitchen_sink_coldwater_total',\n",
        " 'kitchen_oven_total_energy',\n",
        " 'global_power_factor',\n",
        " 'kitchen_washingmachine_current',\n",
        " 'global_coldwater_instantaneous',\n",
        " 'office_desk_plug_consumption',\n",
        " 'livingroom_switch1_bottom_left',\n",
        " 'entrance_door',\n",
        " 'global_active_energy',\n",
        " 'global_coldwater_total',\n",
        " 'bathroom_heater_effective_mode',\n",
        " 'office_light',\n",
        " 'walkway_switch1_top_right',\n",
        " 'global_humidity_ext',\n",
        " 'livingroom_AC_setpoint',\n",
        " 'walkway_switch2_top_right',\n",
        " 'bathroom_switch_top_left',\n",
        " 'kitchen_cupboard2',\n",
        " 'office_heater_base_setpoint',\n",
        " 'bedroom_light3',\n",
        " 'kitchen_dishwasher_total_energy',\n",
        " 'livingroom_shutter3',\n",
        " 'kitchen_light2',\n",
        " 'kitchen_cooktop_power',\n",
        " 'office_switch_left',\n",
        " 'toilet_light',\n",
        " 'livingroom_shutter2',\n",
        " 'bathroom_presence',\n",
        " 'livingroom_light2',\n",
        " 'bedroom_switch_top_right',\n",
        " 'livingroom_heater1_temperature',\n",
        " 'bedroom_switch_top_left',\n",
        " 'walkway_switch1_top_left',\n",
        " 'livingroom_switch2_top_right',\n",
        " 'walkway_switch2_bottom_right',\n",
        " 'kitchen_dishwasher_power',\n",
        " 'global_heaters_setpoint',\n",
        " 'bedroom_AC_setpoint',\n",
        " 'kitchen_temperature',\n",
        " 'bedroom_heater2_temperature',\n",
        " 'kitchen_fridge_partial_energy',\n",
        " 'bedroom_switch_bottom_right',\n",
        " 'office_shutter',\n",
        " 'bedroom_drawer2',\n",
        " 'global_temperature_ext',\n",
        " 'bedroom_heater1_command',\n",
        " 'bathroom_heater_base_setpoint',\n",
        " 'bedroom_bed_pressure',\n",
        " 'livingroom_table_noise',\n",
        " 'global_lighting_voltage',\n",
        " 'office_switch_middle',\n",
        " 'global_gas_total',\n",
        " 'global_waterheater_status',\n",
        " 'office_door',\n",
        " 'kitchen_washingmachine_power',\n",
        " 'staircase_switch_left',\n",
        " 'bedroom_heater2_base_setpoint',\n",
        " 'entrance_heater_effective_mode',\n",
        " 'bedroom_heater1_temperature',\n",
        " 'entrance_light1',\n",
        " 'livingroom_shutter1',\n",
        " 'livingroom_heater1_base_setpoint',\n",
        " 'kitchen_CO2',\n",
        " 'walkway_switch2_top_left',\n",
        " 'kitchen_switch_top_left',\n",
        " 'kitchen_fridge_total_energy',\n",
        " 'bathroom_shower_door',\n",
        " 'bedroom_heater1_base_setpoint',\n",
        " 'kitchen_light1',\n",
        " 'kitchen_hood_partial_energy',\n",
        " 'global_waterheater_voltage',\n",
        " 'kitchen_cupboard4',\n",
        " 'bathroom_sink_coldwater_instantaneous',\n",
        " 'bedroom_noise',\n",
        " 'kitchen_humidity',\n",
        " 'kitchen_oven_power',\n",
        " 'kitchen_presence',\n",
        " 'livingroom_luminosity',\n",
        " 'E',\n",
        " 'ENE',\n",
        " 'ESE',\n",
        " 'N',\n",
        " 'NE',\n",
        " 'NNE',\n",
        " 'NNW',\n",
        " 'NW',\n",
        " 'S',\n",
        " 'SE',\n",
        " 'SSE',\n",
        " 'SSW',\n",
        " 'SW',\n",
        " 'W',\n",
        " 'WNW',\n",
        " 'WSW',\n",
        " 'down',\n",
        " 'equal',\n",
        " 'up',\n",
        " 'Couvert',\n",
        " 'brouillard',\n",
        " 'brume',\n",
        " 'ensoleillé',\n",
        " 'légères pluies',\n",
        " 'nuageux',\n",
        " 'partiellement ensoleillé',\n",
        " 'peu nuageux',\n",
        " 'cloudy',\n",
        " 'few-showers',\n",
        " 'fog',\n",
        " 'mostly-cloudy-day',\n",
        " 'partly-cloudy-day',\n",
        " 'sunny']\n",
        "\n",
        "classes_labels = ['Bathroom|Cleaning',\n",
        " 'Bathroom|Showering',\n",
        " 'Bathroom|Using_the_sink',\n",
        " 'Bathroom|Using_the_toilet',\n",
        " 'Bedroom|Cleaning',\n",
        " 'Bedroom|Dressing',\n",
        " 'Bedroom|Napping',\n",
        " 'Bedroom|Reading',\n",
        " 'Entrance|Entering',\n",
        " 'Entrance|Leaving',\n",
        " 'Kitchen|Cleaning',\n",
        " 'Kitchen|Cooking',\n",
        " 'Kitchen|Preparing',\n",
        " 'Kitchen|Washing_the_dishes',\n",
        " 'Living_room|Cleaning',\n",
        " 'Living_room|Computing',\n",
        " 'Living_room|Eating',\n",
        " 'Living_room|Watching_TV',\n",
        " 'Office|Cleaning',\n",
        " 'Office|Computing',\n",
        " 'Office|Watching_TV',\n",
        " 'Staircase|Going_down',\n",
        " 'Staircase|Going_up',\n",
        " 'Toilet|Using_the_toilet',\n",
        " 'Transition']\n"
      ]
    },
    {
      "cell_type": "code",
      "source": [
        "X = data[training_labels]\n",
        "y = data[classes_labels]\n",
        "y = y.values\n",
        "X = X.values\n",
        "\n",
        "\n"
      ],
      "metadata": {
        "id": "7LR9JyYSLKzz"
      },
      "execution_count": 247,
      "outputs": []
    },
    {
      "cell_type": "code",
      "source": [
        "def reverse_onehot(encoded_seq):\n",
        "    return [np.argmax(vector) for vector in encoded_seq]"
      ],
      "metadata": {
        "id": "DG96-Q9fLWXb"
      },
      "execution_count": 248,
      "outputs": []
    },
    {
      "cell_type": "code",
      "source": [
        "y_reverse_onehot = reverse_onehot(y)"
      ],
      "metadata": {
        "id": "py94JQI-LZKP"
      },
      "execution_count": 249,
      "outputs": []
    },
    {
      "cell_type": "code",
      "source": [
        "# Define feature selection\n",
        "from sklearn.feature_selection import f_classif,SelectKBest \n",
        "from sklearn.feature_selection import VarianceThreshold\n",
        "import math\n",
        "\n",
        "\n",
        "# X is your feature matrix\n",
        "# y is your target variable\n",
        "\n",
        "# Create a VarianceThreshold transformer to remove zero-variance features\n",
        "vt = VarianceThreshold()\n",
        "# Fit the transformer on the feature matrix X to learn the feature variances\n",
        "vt.fit(X)\n",
        "# Transform the feature matrix X to remove zero-variance features\n",
        "X_vt = vt.transform(X)\n",
        "# Create a SelectKBest transformer to select the top k features based on the F-test\n",
        "fs = SelectKBest(score_func=f_classif, k=200)\n",
        "# Apply the SelectKBest transformer on the variance-thresholded feature matrix X_vt\n",
        "X_kbest = fs.fit_transform(X_vt, reverse_onehot(y))\n",
        "# Apply feature selection\n",
        "#fs.fit(X,reverse_onehot(y))\n",
        "fs.get_support()"
      ],
      "metadata": {
        "colab": {
          "base_uri": "https://localhost:8080/"
        },
        "id": "BtHP_7YnLche",
        "outputId": "706be9ff-8690-4ae0-fd28-4f23764c5ca2"
      },
      "execution_count": 250,
      "outputs": [
        {
          "output_type": "execute_result",
          "data": {
            "text/plain": [
              "array([False, False, False,  True,  True,  True, False,  True, False,\n",
              "       False,  True,  True,  True,  True, False,  True,  True,  True,\n",
              "        True,  True,  True,  True, False,  True,  True,  True,  True,\n",
              "       False, False,  True,  True, False,  True,  True,  True,  True,\n",
              "        True,  True, False,  True,  True,  True, False,  True,  True,\n",
              "        True,  True,  True,  True,  True,  True,  True,  True,  True,\n",
              "        True,  True,  True, False,  True, False,  True,  True,  True,\n",
              "        True, False,  True,  True,  True, False,  True,  True,  True,\n",
              "        True,  True,  True,  True, False,  True,  True,  True,  True,\n",
              "        True, False,  True,  True,  True,  True,  True,  True, False,\n",
              "        True,  True,  True,  True,  True, False,  True,  True,  True,\n",
              "       False, False,  True,  True,  True,  True,  True,  True, False,\n",
              "        True,  True,  True,  True,  True,  True,  True, False,  True,\n",
              "        True,  True, False,  True,  True, False, False,  True,  True,\n",
              "        True,  True, False, False,  True,  True,  True,  True, False,\n",
              "        True,  True,  True,  True,  True,  True,  True,  True,  True,\n",
              "       False,  True,  True,  True,  True,  True,  True,  True, False,\n",
              "       False,  True,  True,  True, False,  True, False,  True,  True,\n",
              "        True,  True,  True, False,  True,  True, False, False,  True,\n",
              "        True,  True,  True,  True,  True,  True,  True,  True,  True,\n",
              "        True,  True, False, False, False,  True, False, False,  True,\n",
              "       False,  True,  True,  True,  True,  True,  True, False,  True,\n",
              "        True,  True,  True, False,  True,  True,  True, False,  True,\n",
              "       False,  True,  True, False,  True,  True, False,  True,  True,\n",
              "       False,  True, False,  True,  True,  True,  True,  True,  True,\n",
              "        True,  True,  True,  True,  True,  True,  True,  True,  True,\n",
              "        True,  True,  True,  True,  True,  True,  True,  True,  True,\n",
              "        True,  True, False,  True, False,  True, False,  True,  True,\n",
              "        True, False, False, False,  True,  True,  True])"
            ]
          },
          "metadata": {},
          "execution_count": 250
        }
      ]
    },
    {
      "cell_type": "code",
      "source": [
        "fs.get_support().sum()"
      ],
      "metadata": {
        "colab": {
          "base_uri": "https://localhost:8080/"
        },
        "id": "s6u3XfVmLecN",
        "outputId": "a97170c9-d4a3-43b1-8395-4f859dab5856"
      },
      "execution_count": 251,
      "outputs": [
        {
          "output_type": "execute_result",
          "data": {
            "text/plain": [
              "200"
            ]
          },
          "metadata": {},
          "execution_count": 251
        }
      ]
    },
    {
      "cell_type": "code",
      "source": [
        "def list_ceil(x):\n",
        "    return[math.ceil(i) for i in x]"
      ],
      "metadata": {
        "id": "fU34LVHGLf_c"
      },
      "execution_count": 252,
      "outputs": []
    },
    {
      "cell_type": "code",
      "source": [
        "print(\"P_Values :\")\n",
        "print(np.round(fs.pvalues_,5))\n",
        "print(\"F Values :\")\n",
        "print(fs.scores_)"
      ],
      "metadata": {
        "colab": {
          "base_uri": "https://localhost:8080/"
        },
        "id": "5XIVmS4TLhVc",
        "outputId": "bca4b4cb-fd99-4c5f-dca2-605f0b3d640e"
      },
      "execution_count": 253,
      "outputs": [
        {
          "output_type": "stream",
          "name": "stdout",
          "text": [
            "P_Values :\n",
            "[0.      0.      0.      0.      0.      0.      0.      0.      0.\n",
            " 0.      0.      0.      0.      0.      0.      0.      0.      0.\n",
            " 0.      0.      0.      0.      0.      0.      0.      0.      0.\n",
            " 0.      0.      0.      0.      0.      0.      0.      0.      0.\n",
            " 0.      0.      0.      0.      0.      0.      0.      0.      0.\n",
            " 0.      0.      0.      0.      0.      0.      0.      0.      0.\n",
            " 0.      0.      0.      0.      0.      0.      0.      0.      0.\n",
            " 0.      0.      0.      0.      0.      0.      0.      0.      0.\n",
            " 0.      0.      0.      0.      0.      0.      0.      0.      0.\n",
            " 0.      0.      0.      0.      0.      0.      0.      0.      0.\n",
            " 0.      0.      0.      0.      0.      0.      0.      0.      0.\n",
            " 0.      0.88095 0.      0.      0.      0.      0.      0.      0.\n",
            " 0.      0.      0.      0.      0.      0.      0.      0.      0.\n",
            " 0.      0.      0.      0.      0.      0.      0.      0.      0.\n",
            " 0.      0.      0.      0.      0.      0.      0.      0.      0.\n",
            " 0.      0.      0.      0.      0.      0.      0.      0.      0.\n",
            " 0.      0.      0.      0.      0.      0.      0.      0.      0.\n",
            " 0.      0.      0.      0.      0.      0.      0.      0.      0.\n",
            " 0.      0.      0.      0.      0.      0.      0.      0.      0.\n",
            " 0.      0.      0.      0.      0.      0.      0.      0.      0.\n",
            " 0.      0.      0.      0.      0.      0.      0.      0.      0.\n",
            " 0.      0.      0.      0.      0.      0.      0.      0.      0.\n",
            " 0.      0.      0.      0.      0.      0.      0.      0.      0.\n",
            " 0.      0.      0.      0.      0.      0.      0.      0.      0.\n",
            " 0.      0.      0.      0.      0.      0.      0.      0.      0.\n",
            " 0.      0.      0.      0.      0.      0.      0.      0.      0.\n",
            " 0.      0.      0.      0.      0.      0.      0.      0.      0.\n",
            " 0.      0.      0.      0.      0.      0.      0.      0.      0.\n",
            " 0.      0.      0.      0.      0.      0.      0.     ]\n",
            "F Values :\n",
            "[1.30531665e+02 1.44471480e+02 1.10987959e+02 1.54141172e+02\n",
            " 1.78757980e+02 9.42263683e+03 9.26255042e+01 6.03059358e+04\n",
            " 5.95214568e+01 1.06700017e+02 5.11382079e+02 8.93402322e+02\n",
            " 1.07356785e+03 9.96994771e+03 1.40272562e+02 8.17383803e+02\n",
            " 2.10131563e+03 4.16168582e+02 9.96994771e+03 5.32642240e+02\n",
            " 2.65017149e+02 1.55424471e+02 1.33401621e+02 3.15123761e+04\n",
            " 2.33083627e+02 2.09342844e+05 3.35379928e+05 1.32458335e+02\n",
            " 7.40847510e+01 4.20028899e+05 4.80682538e+05 1.39925343e+02\n",
            " 6.44328858e+02 4.98739358e+05 1.17012381e+03 3.60229648e+02\n",
            " 5.95202545e+02 5.60298376e+02 5.95214568e+01 1.04209121e+03\n",
            " 5.28795403e+05 3.60187545e+03 8.76105106e+01 1.58301184e+02\n",
            " 1.92660774e+02 2.28754921e+02 3.62090488e+02 1.79114854e+04\n",
            " 6.33232741e+02 1.99946337e+02 1.55275717e+04 7.68661368e+02\n",
            " 1.12433813e+03 1.42291073e+04 2.21979728e+02 1.69866680e+02\n",
            " 6.43863183e+02 1.44473608e+02 8.07338450e+03 1.00031137e+02\n",
            " 3.77957482e+03 6.37959083e+02 5.71896046e+02 9.49096106e+02\n",
            " 9.14594116e+01 8.54943380e+02 2.78306279e+04 8.39568906e+02\n",
            " 5.36929144e+01 2.71410395e+04 4.73872127e+02 3.91475847e+03\n",
            " 9.44692638e+03 3.36966358e+03 3.34477046e+02 2.11897023e+02\n",
            " 1.28301031e+02 7.03556153e+02 5.36028366e+02 8.01180151e+02\n",
            " 8.55830861e+02 6.27033947e+02 1.34769957e+02 2.14787714e+04\n",
            " 2.06858605e+02 4.30164551e+04 3.57392328e+02 3.26118429e+03\n",
            " 9.84990267e+02 3.95354234e+01 1.22809567e+03 1.57033963e+03\n",
            " 6.71659358e+02 1.43042061e+05 2.80069127e+03 1.10381754e+02\n",
            " 8.93402322e+02 2.78412561e+04 4.43810013e+05 1.32614585e+02\n",
            " 6.74735759e-01 1.47890382e+02 1.94481864e+02 3.42130887e+03\n",
            " 7.95451149e+02 1.23777730e+03 1.60373672e+02 5.20921491e+01\n",
            " 7.14388571e+03 2.97159618e+03 1.58249876e+02 4.67944904e+02\n",
            " 3.96346527e+05 1.38336490e+05 2.24345774e+03 1.23155925e+02\n",
            " 2.00255740e+04 6.10601173e+02 6.30348159e+02 1.33532365e+02\n",
            " 1.59996200e+02 1.02175044e+04 1.23344041e+02 1.39567479e+02\n",
            " 3.00496144e+02 5.07226170e+02 1.87399065e+02 2.54965226e+02\n",
            " 5.77550453e+01 1.44474672e+02 1.06660233e+03 3.21097142e+05\n",
            " 1.52775274e+04 9.19363303e+02 1.34280054e+02 5.67676664e+02\n",
            " 1.83001606e+02 5.89023736e+02 2.37297372e+04 7.88140680e+02\n",
            " 1.63598299e+02 2.19462273e+02 6.00778411e+02 5.27708411e+05\n",
            " 1.37699075e+02 5.39231235e+02 3.35047067e+03 2.18653765e+02\n",
            " 1.50688917e+02 1.48592852e+02 1.58235184e+02 1.69536321e+03\n",
            " 1.33865870e+02 5.20969397e+01 2.96094788e+02 1.65878702e+04\n",
            " 1.83160178e+04 7.62668517e+01 1.58553279e+03 3.01567296e+01\n",
            " 1.72214476e+02 8.63681975e+02 2.15308932e+06 6.35579425e+02\n",
            " 4.59822015e+02 5.95201262e+01 9.96754261e+02 7.75859334e+02\n",
            " 1.33344363e+02 5.95214568e+01 4.98739358e+05 3.00496144e+02\n",
            " 9.96189918e+03 1.63700146e+05 3.63827651e+04 5.99717305e+02\n",
            " 1.31968046e+05 9.96189918e+03 2.82906185e+05 2.14833421e+04\n",
            " 1.54579137e+02 3.83444511e+02 1.44416640e+02 1.32797894e+02\n",
            " 3.73834870e+01 1.04007276e+03 5.95214568e+01 5.95214568e+01\n",
            " 4.80022824e+02 7.07240647e+01 3.96821220e+02 1.54141172e+02\n",
            " 7.83955837e+04 1.85849956e+02 6.76179152e+02 6.51485912e+02\n",
            " 5.95214568e+01 4.30311366e+04 3.15011349e+03 5.56602657e+02\n",
            " 5.48302011e+02 5.84357734e+01 7.89419319e+02 3.94220222e+02\n",
            " 1.11303773e+03 5.95214568e+01 7.67118481e+02 1.33010864e+02\n",
            " 1.99006513e+04 9.95386858e+03 5.95214568e+01 1.62304532e+03\n",
            " 6.32398627e+02 1.39880189e+02 3.97461795e+02 6.78274336e+02\n",
            " 5.95214568e+01 1.62467567e+05 1.38481413e+02 5.29660536e+02\n",
            " 1.53261278e+02 2.68214687e+03 2.58123292e+02 1.77131763e+02\n",
            " 6.06161412e+04 3.72176600e+03 2.95868142e+02 1.73404491e+02\n",
            " 3.91293117e+02 1.84641082e+02 2.63770441e+02 5.10848081e+02\n",
            " 3.68861340e+02 2.78659308e+02 2.70796142e+02 2.48841487e+02\n",
            " 2.01812806e+02 1.51448038e+02 5.61903480e+02 6.08898920e+02\n",
            " 2.10127023e+02 3.17998333e+02 1.63221376e+02 1.19310240e+03\n",
            " 5.07824770e+02 9.04446764e+01 2.44643391e+02 1.14414953e+02\n",
            " 2.34100415e+02 1.12481515e+02 2.43246942e+02 3.64117388e+02\n",
            " 6.38247889e+02 9.04446764e+01 1.12481515e+02 7.41465066e+01\n",
            " 3.11996608e+02 6.38247889e+02 2.34100415e+02]\n"
          ]
        }
      ]
    },
    {
      "cell_type": "code",
      "source": [
        "list_ceil(fs.scores_)"
      ],
      "metadata": {
        "colab": {
          "base_uri": "https://localhost:8080/"
        },
        "id": "K-Fy_Wv9LjFP",
        "outputId": "7fd69714-ba02-49fc-dac7-4787c69c2c80"
      },
      "execution_count": 254,
      "outputs": [
        {
          "output_type": "execute_result",
          "data": {
            "text/plain": [
              "[131,\n",
              " 145,\n",
              " 111,\n",
              " 155,\n",
              " 179,\n",
              " 9423,\n",
              " 93,\n",
              " 60306,\n",
              " 60,\n",
              " 107,\n",
              " 512,\n",
              " 894,\n",
              " 1074,\n",
              " 9970,\n",
              " 141,\n",
              " 818,\n",
              " 2102,\n",
              " 417,\n",
              " 9970,\n",
              " 533,\n",
              " 266,\n",
              " 156,\n",
              " 134,\n",
              " 31513,\n",
              " 234,\n",
              " 209343,\n",
              " 335380,\n",
              " 133,\n",
              " 75,\n",
              " 420029,\n",
              " 480683,\n",
              " 140,\n",
              " 645,\n",
              " 498740,\n",
              " 1171,\n",
              " 361,\n",
              " 596,\n",
              " 561,\n",
              " 60,\n",
              " 1043,\n",
              " 528796,\n",
              " 3602,\n",
              " 88,\n",
              " 159,\n",
              " 193,\n",
              " 229,\n",
              " 363,\n",
              " 17912,\n",
              " 634,\n",
              " 200,\n",
              " 15528,\n",
              " 769,\n",
              " 1125,\n",
              " 14230,\n",
              " 222,\n",
              " 170,\n",
              " 644,\n",
              " 145,\n",
              " 8074,\n",
              " 101,\n",
              " 3780,\n",
              " 638,\n",
              " 572,\n",
              " 950,\n",
              " 92,\n",
              " 855,\n",
              " 27831,\n",
              " 840,\n",
              " 54,\n",
              " 27142,\n",
              " 474,\n",
              " 3915,\n",
              " 9447,\n",
              " 3370,\n",
              " 335,\n",
              " 212,\n",
              " 129,\n",
              " 704,\n",
              " 537,\n",
              " 802,\n",
              " 856,\n",
              " 628,\n",
              " 135,\n",
              " 21479,\n",
              " 207,\n",
              " 43017,\n",
              " 358,\n",
              " 3262,\n",
              " 985,\n",
              " 40,\n",
              " 1229,\n",
              " 1571,\n",
              " 672,\n",
              " 143043,\n",
              " 2801,\n",
              " 111,\n",
              " 894,\n",
              " 27842,\n",
              " 443811,\n",
              " 133,\n",
              " 1,\n",
              " 148,\n",
              " 195,\n",
              " 3422,\n",
              " 796,\n",
              " 1238,\n",
              " 161,\n",
              " 53,\n",
              " 7144,\n",
              " 2972,\n",
              " 159,\n",
              " 468,\n",
              " 396347,\n",
              " 138337,\n",
              " 2244,\n",
              " 124,\n",
              " 20026,\n",
              " 611,\n",
              " 631,\n",
              " 134,\n",
              " 160,\n",
              " 10218,\n",
              " 124,\n",
              " 140,\n",
              " 301,\n",
              " 508,\n",
              " 188,\n",
              " 255,\n",
              " 58,\n",
              " 145,\n",
              " 1067,\n",
              " 321098,\n",
              " 15278,\n",
              " 920,\n",
              " 135,\n",
              " 568,\n",
              " 184,\n",
              " 590,\n",
              " 23730,\n",
              " 789,\n",
              " 164,\n",
              " 220,\n",
              " 601,\n",
              " 527709,\n",
              " 138,\n",
              " 540,\n",
              " 3351,\n",
              " 219,\n",
              " 151,\n",
              " 149,\n",
              " 159,\n",
              " 1696,\n",
              " 134,\n",
              " 53,\n",
              " 297,\n",
              " 16588,\n",
              " 18317,\n",
              " 77,\n",
              " 1586,\n",
              " 31,\n",
              " 173,\n",
              " 864,\n",
              " 2153090,\n",
              " 636,\n",
              " 460,\n",
              " 60,\n",
              " 997,\n",
              " 776,\n",
              " 134,\n",
              " 60,\n",
              " 498740,\n",
              " 301,\n",
              " 9962,\n",
              " 163701,\n",
              " 36383,\n",
              " 600,\n",
              " 131969,\n",
              " 9962,\n",
              " 282907,\n",
              " 21484,\n",
              " 155,\n",
              " 384,\n",
              " 145,\n",
              " 133,\n",
              " 38,\n",
              " 1041,\n",
              " 60,\n",
              " 60,\n",
              " 481,\n",
              " 71,\n",
              " 397,\n",
              " 155,\n",
              " 78396,\n",
              " 186,\n",
              " 677,\n",
              " 652,\n",
              " 60,\n",
              " 43032,\n",
              " 3151,\n",
              " 557,\n",
              " 549,\n",
              " 59,\n",
              " 790,\n",
              " 395,\n",
              " 1114,\n",
              " 60,\n",
              " 768,\n",
              " 134,\n",
              " 19901,\n",
              " 9954,\n",
              " 60,\n",
              " 1624,\n",
              " 633,\n",
              " 140,\n",
              " 398,\n",
              " 679,\n",
              " 60,\n",
              " 162468,\n",
              " 139,\n",
              " 530,\n",
              " 154,\n",
              " 2683,\n",
              " 259,\n",
              " 178,\n",
              " 60617,\n",
              " 3722,\n",
              " 296,\n",
              " 174,\n",
              " 392,\n",
              " 185,\n",
              " 264,\n",
              " 511,\n",
              " 369,\n",
              " 279,\n",
              " 271,\n",
              " 249,\n",
              " 202,\n",
              " 152,\n",
              " 562,\n",
              " 609,\n",
              " 211,\n",
              " 318,\n",
              " 164,\n",
              " 1194,\n",
              " 508,\n",
              " 91,\n",
              " 245,\n",
              " 115,\n",
              " 235,\n",
              " 113,\n",
              " 244,\n",
              " 365,\n",
              " 639,\n",
              " 91,\n",
              " 113,\n",
              " 75,\n",
              " 312,\n",
              " 639,\n",
              " 235]"
            ]
          },
          "metadata": {},
          "execution_count": 254
        }
      ]
    },
    {
      "cell_type": "code",
      "source": [
        "features_score = pd.DataFrame(fs.scores_)\n",
        "features_pvalue = pd.DataFrame(np.round(fs.pvalues_,4))\n",
        "features = pd.DataFrame(training_labels)\n",
        "feature_score = pd.concat([features,features_score,features_pvalue],axis=1)\n",
        "# Assign the column name\n",
        "feature_score.columns = [\"Input_Features\",\"Score\",\"P_Value\"]\n",
        "print(feature_score.nlargest(200,columns=\"Score\"))"
      ],
      "metadata": {
        "colab": {
          "base_uri": "https://localhost:8080/"
        },
        "id": "-l9E7gKFLkt1",
        "outputId": "47e4fefe-fba4-4be1-9778-54edeae35835"
      },
      "execution_count": 255,
      "outputs": [
        {
          "output_type": "stream",
          "name": "stdout",
          "text": [
            "                    Input_Features         Score  P_Value\n",
            "162                  entrance_door  2.153089e+06      0.0\n",
            "40   entrance_heater_base_setpoint  5.287954e+05      0.0\n",
            "143              global_clouds_ext  5.277084e+05      0.0\n",
            "33              office_AC_setpoint  4.987394e+05      0.0\n",
            "170      walkway_switch2_top_right  4.987394e+05      0.0\n",
            "..                             ...           ...      ...\n",
            "220    kitchen_fridge_total_energy  1.532613e+02      0.0\n",
            "237                             NE  1.514480e+02      0.0\n",
            "148         livingroom_temperature  1.506889e+02      0.0\n",
            "149                 livingroom_CO2  1.485929e+02      0.0\n",
            "101                bathroom_light2  1.478904e+02      0.0\n",
            "\n",
            "[200 rows x 3 columns]\n"
          ]
        }
      ]
    },
    {
      "cell_type": "code",
      "source": [
        "Feature_selection_dataFrame = feature_score.nlargest(200,columns=\"Score\")"
      ],
      "metadata": {
        "id": "2osTWt1iLodv"
      },
      "execution_count": 256,
      "outputs": []
    },
    {
      "cell_type": "code",
      "source": [
        "Feature_selection_dataFrame= Feature_selection_dataFrame.sort_values('Score', ascending=False)\n",
        "Feature_selection_dataFrame"
      ],
      "metadata": {
        "colab": {
          "base_uri": "https://localhost:8080/",
          "height": 424
        },
        "id": "-m3-tH85Lp4X",
        "outputId": "8f03a533-89f3-4011-90fd-18527293c801"
      },
      "execution_count": 257,
      "outputs": [
        {
          "output_type": "execute_result",
          "data": {
            "text/plain": [
              "                    Input_Features         Score  P_Value\n",
              "162                  entrance_door  2.153089e+06      0.0\n",
              "40   entrance_heater_base_setpoint  5.287954e+05      0.0\n",
              "143              global_clouds_ext  5.277084e+05      0.0\n",
              "33              office_AC_setpoint  4.987394e+05      0.0\n",
              "170      walkway_switch2_top_right  4.987394e+05      0.0\n",
              "..                             ...           ...      ...\n",
              "220    kitchen_fridge_total_energy  1.532613e+02      0.0\n",
              "237                             NE  1.514480e+02      0.0\n",
              "148         livingroom_temperature  1.506889e+02      0.0\n",
              "149                 livingroom_CO2  1.485929e+02      0.0\n",
              "101                bathroom_light2  1.478904e+02      0.0\n",
              "\n",
              "[200 rows x 3 columns]"
            ],
            "text/html": [
              "\n",
              "  <div id=\"df-bce8d8ee-f2a8-4113-9318-20aecd411c89\">\n",
              "    <div class=\"colab-df-container\">\n",
              "      <div>\n",
              "<style scoped>\n",
              "    .dataframe tbody tr th:only-of-type {\n",
              "        vertical-align: middle;\n",
              "    }\n",
              "\n",
              "    .dataframe tbody tr th {\n",
              "        vertical-align: top;\n",
              "    }\n",
              "\n",
              "    .dataframe thead th {\n",
              "        text-align: right;\n",
              "    }\n",
              "</style>\n",
              "<table border=\"1\" class=\"dataframe\">\n",
              "  <thead>\n",
              "    <tr style=\"text-align: right;\">\n",
              "      <th></th>\n",
              "      <th>Input_Features</th>\n",
              "      <th>Score</th>\n",
              "      <th>P_Value</th>\n",
              "    </tr>\n",
              "  </thead>\n",
              "  <tbody>\n",
              "    <tr>\n",
              "      <th>162</th>\n",
              "      <td>entrance_door</td>\n",
              "      <td>2.153089e+06</td>\n",
              "      <td>0.0</td>\n",
              "    </tr>\n",
              "    <tr>\n",
              "      <th>40</th>\n",
              "      <td>entrance_heater_base_setpoint</td>\n",
              "      <td>5.287954e+05</td>\n",
              "      <td>0.0</td>\n",
              "    </tr>\n",
              "    <tr>\n",
              "      <th>143</th>\n",
              "      <td>global_clouds_ext</td>\n",
              "      <td>5.277084e+05</td>\n",
              "      <td>0.0</td>\n",
              "    </tr>\n",
              "    <tr>\n",
              "      <th>33</th>\n",
              "      <td>office_AC_setpoint</td>\n",
              "      <td>4.987394e+05</td>\n",
              "      <td>0.0</td>\n",
              "    </tr>\n",
              "    <tr>\n",
              "      <th>170</th>\n",
              "      <td>walkway_switch2_top_right</td>\n",
              "      <td>4.987394e+05</td>\n",
              "      <td>0.0</td>\n",
              "    </tr>\n",
              "    <tr>\n",
              "      <th>...</th>\n",
              "      <td>...</td>\n",
              "      <td>...</td>\n",
              "      <td>...</td>\n",
              "    </tr>\n",
              "    <tr>\n",
              "      <th>220</th>\n",
              "      <td>kitchen_fridge_total_energy</td>\n",
              "      <td>1.532613e+02</td>\n",
              "      <td>0.0</td>\n",
              "    </tr>\n",
              "    <tr>\n",
              "      <th>237</th>\n",
              "      <td>NE</td>\n",
              "      <td>1.514480e+02</td>\n",
              "      <td>0.0</td>\n",
              "    </tr>\n",
              "    <tr>\n",
              "      <th>148</th>\n",
              "      <td>livingroom_temperature</td>\n",
              "      <td>1.506889e+02</td>\n",
              "      <td>0.0</td>\n",
              "    </tr>\n",
              "    <tr>\n",
              "      <th>149</th>\n",
              "      <td>livingroom_CO2</td>\n",
              "      <td>1.485929e+02</td>\n",
              "      <td>0.0</td>\n",
              "    </tr>\n",
              "    <tr>\n",
              "      <th>101</th>\n",
              "      <td>bathroom_light2</td>\n",
              "      <td>1.478904e+02</td>\n",
              "      <td>0.0</td>\n",
              "    </tr>\n",
              "  </tbody>\n",
              "</table>\n",
              "<p>200 rows × 3 columns</p>\n",
              "</div>\n",
              "      <button class=\"colab-df-convert\" onclick=\"convertToInteractive('df-bce8d8ee-f2a8-4113-9318-20aecd411c89')\"\n",
              "              title=\"Convert this dataframe to an interactive table.\"\n",
              "              style=\"display:none;\">\n",
              "        \n",
              "  <svg xmlns=\"http://www.w3.org/2000/svg\" height=\"24px\"viewBox=\"0 0 24 24\"\n",
              "       width=\"24px\">\n",
              "    <path d=\"M0 0h24v24H0V0z\" fill=\"none\"/>\n",
              "    <path d=\"M18.56 5.44l.94 2.06.94-2.06 2.06-.94-2.06-.94-.94-2.06-.94 2.06-2.06.94zm-11 1L8.5 8.5l.94-2.06 2.06-.94-2.06-.94L8.5 2.5l-.94 2.06-2.06.94zm10 10l.94 2.06.94-2.06 2.06-.94-2.06-.94-.94-2.06-.94 2.06-2.06.94z\"/><path d=\"M17.41 7.96l-1.37-1.37c-.4-.4-.92-.59-1.43-.59-.52 0-1.04.2-1.43.59L10.3 9.45l-7.72 7.72c-.78.78-.78 2.05 0 2.83L4 21.41c.39.39.9.59 1.41.59.51 0 1.02-.2 1.41-.59l7.78-7.78 2.81-2.81c.8-.78.8-2.07 0-2.86zM5.41 20L4 18.59l7.72-7.72 1.47 1.35L5.41 20z\"/>\n",
              "  </svg>\n",
              "      </button>\n",
              "      \n",
              "  <style>\n",
              "    .colab-df-container {\n",
              "      display:flex;\n",
              "      flex-wrap:wrap;\n",
              "      gap: 12px;\n",
              "    }\n",
              "\n",
              "    .colab-df-convert {\n",
              "      background-color: #E8F0FE;\n",
              "      border: none;\n",
              "      border-radius: 50%;\n",
              "      cursor: pointer;\n",
              "      display: none;\n",
              "      fill: #1967D2;\n",
              "      height: 32px;\n",
              "      padding: 0 0 0 0;\n",
              "      width: 32px;\n",
              "    }\n",
              "\n",
              "    .colab-df-convert:hover {\n",
              "      background-color: #E2EBFA;\n",
              "      box-shadow: 0px 1px 2px rgba(60, 64, 67, 0.3), 0px 1px 3px 1px rgba(60, 64, 67, 0.15);\n",
              "      fill: #174EA6;\n",
              "    }\n",
              "\n",
              "    [theme=dark] .colab-df-convert {\n",
              "      background-color: #3B4455;\n",
              "      fill: #D2E3FC;\n",
              "    }\n",
              "\n",
              "    [theme=dark] .colab-df-convert:hover {\n",
              "      background-color: #434B5C;\n",
              "      box-shadow: 0px 1px 3px 1px rgba(0, 0, 0, 0.15);\n",
              "      filter: drop-shadow(0px 1px 2px rgba(0, 0, 0, 0.3));\n",
              "      fill: #FFFFFF;\n",
              "    }\n",
              "  </style>\n",
              "\n",
              "      <script>\n",
              "        const buttonEl =\n",
              "          document.querySelector('#df-bce8d8ee-f2a8-4113-9318-20aecd411c89 button.colab-df-convert');\n",
              "        buttonEl.style.display =\n",
              "          google.colab.kernel.accessAllowed ? 'block' : 'none';\n",
              "\n",
              "        async function convertToInteractive(key) {\n",
              "          const element = document.querySelector('#df-bce8d8ee-f2a8-4113-9318-20aecd411c89');\n",
              "          const dataTable =\n",
              "            await google.colab.kernel.invokeFunction('convertToInteractive',\n",
              "                                                     [key], {});\n",
              "          if (!dataTable) return;\n",
              "\n",
              "          const docLinkHtml = 'Like what you see? Visit the ' +\n",
              "            '<a target=\"_blank\" href=https://colab.research.google.com/notebooks/data_table.ipynb>data table notebook</a>'\n",
              "            + ' to learn more about interactive tables.';\n",
              "          element.innerHTML = '';\n",
              "          dataTable['output_type'] = 'display_data';\n",
              "          await google.colab.output.renderOutput(dataTable, element);\n",
              "          const docLink = document.createElement('div');\n",
              "          docLink.innerHTML = docLinkHtml;\n",
              "          element.appendChild(docLink);\n",
              "        }\n",
              "      </script>\n",
              "    </div>\n",
              "  </div>\n",
              "  "
            ]
          },
          "metadata": {},
          "execution_count": 257
        }
      ]
    },
    {
      "cell_type": "code",
      "source": [
        "features_selection_models=Feature_selection_dataFrame['Input_Features'].values"
      ],
      "metadata": {
        "id": "ib_cd6ciLroH"
      },
      "execution_count": 258,
      "outputs": []
    },
    {
      "cell_type": "code",
      "source": [
        "from sklearn.model_selection import train_test_split\n",
        "\n",
        "X = data[features_selection_models]\n",
        "y = data[classes_labels]\n",
        "\n",
        "y = y.values\n",
        "X = X.values\n",
        "\n",
        "X = np.reshape(X, (X.shape[0], X.shape[1], 1))\n",
        "\n",
        "x_train, x_test, y_train, y_test = train_test_split(X,y, test_size = 0.3)\n",
        "x_test, x_val, y_test, y_val = train_test_split(x_test,y_test, test_size = 0.3)\n",
        "x_train.shape"
      ],
      "metadata": {
        "colab": {
          "base_uri": "https://localhost:8080/"
        },
        "id": "8YV_TJ51LVs6",
        "outputId": "cc8a9ac4-ddd7-46f3-c5d1-b50c8a053fa1"
      },
      "execution_count": 259,
      "outputs": [
        {
          "output_type": "execute_result",
          "data": {
            "text/plain": [
              "(268599, 200, 1)"
            ]
          },
          "metadata": {},
          "execution_count": 259
        }
      ]
    },
    {
      "cell_type": "markdown",
      "source": [
        "#LSTM Model Building"
      ],
      "metadata": {
        "id": "d_kb4tY_L9HF"
      }
    },
    {
      "cell_type": "code",
      "source": [
        "from keras.models import Sequential\n",
        "from keras.layers import Dense,LSTM, Dropout, InputLayer, GRU\n",
        "from keras.optimizers import RMSprop, SGD, Adam\n",
        "\n",
        "import matplotlib.pyplot as plt\n",
        "import os\n",
        "os.environ['TF_ENABLE_CUDNN'] = '1'\n",
        "\n",
        "from keras.layers import CuDNNLSTM\n",
        "\n",
        "\n",
        "\n",
        "# hyper-parameters\n",
        "num_classes = 25\n",
        "input_shape = (x_train.shape[1],)\n",
        "hidden_nodes= (x_train.shape[1]+num_classes)/2\n",
        "input_nodes = x_train.shape[1]\n",
        "\n",
        "model = Sequential()\n",
        "# first layer with \n",
        "model.add(InputLayer((200, 1)))\n",
        "model.add(Dense(int(input_nodes), activation='tanh'))\n",
        "\n",
        "\n",
        "#model.add(LSTM(int(input_nodes), activation='tanh', return_sequences=True))\n",
        "model.add(GRU(int(input_nodes), activation='tanh'))\n",
        "#model.add(LSTM(int(hidden_nodes), activation='tanh'))\n",
        "\n",
        "# Dropout of 50%\n",
        "model.add(Dropout(0.5))\n",
        "\n",
        "# L\n",
        "model.add(Dense(hidden_nodes, activation='tanh'))\n",
        "\n",
        "#model.add(Dense(int(hidden_nodes/2), activation='tanh'))\n",
        "\n",
        "\n",
        "# Classification Layer \n",
        "model.add(Dense(num_classes, activation='softmax'))\n",
        "\n",
        "model.summary()\n"
      ],
      "metadata": {
        "colab": {
          "base_uri": "https://localhost:8080/"
        },
        "id": "famMB50GL9ZX",
        "outputId": "7e1b1f61-594d-4120-8eb5-85d5f9e04f49"
      },
      "execution_count": 260,
      "outputs": [
        {
          "output_type": "stream",
          "name": "stdout",
          "text": [
            "Model: \"sequential_7\"\n",
            "_________________________________________________________________\n",
            " Layer (type)                Output Shape              Param #   \n",
            "=================================================================\n",
            " dense_21 (Dense)            (None, 200, 200)          400       \n",
            "                                                                 \n",
            " gru_3 (GRU)                 (None, 200)               241200    \n",
            "                                                                 \n",
            " dropout_7 (Dropout)         (None, 200)               0         \n",
            "                                                                 \n",
            " dense_22 (Dense)            (None, 112)               22512     \n",
            "                                                                 \n",
            " dense_23 (Dense)            (None, 25)                2825      \n",
            "                                                                 \n",
            "=================================================================\n",
            "Total params: 266,937\n",
            "Trainable params: 266,937\n",
            "Non-trainable params: 0\n",
            "_________________________________________________________________\n"
          ]
        }
      ]
    },
    {
      "cell_type": "code",
      "source": [
        "sgd = SGD(learning_rate=0.05,  momentum=0.9)\n",
        "model.compile(loss='categorical_crossentropy',\n",
        "              optimizer=Adam(lr=0.001),\n",
        "              metrics=['accuracy'])"
      ],
      "metadata": {
        "id": "Uz_uTTJHMAmy",
        "colab": {
          "base_uri": "https://localhost:8080/"
        },
        "outputId": "34698922-cbf9-4b2c-f9f7-84bcb7f3dcf4"
      },
      "execution_count": 261,
      "outputs": [
        {
          "output_type": "stream",
          "name": "stderr",
          "text": [
            "/usr/local/lib/python3.8/dist-packages/keras/optimizers/optimizer_v2/adam.py:117: UserWarning: The `lr` argument is deprecated, use `learning_rate` instead.\n",
            "  super().__init__(name, **kwargs)\n"
          ]
        }
      ]
    },
    {
      "cell_type": "code",
      "source": [
        "batch_size = 34\n",
        "epochs = 10\n",
        "history = model.fit(x_train, y_train,\n",
        "                    batch_size=batch_size,\n",
        "                    epochs=epochs,\n",
        "                    verbose=1,\n",
        "                    validation_data=(x_val, y_val))"
      ],
      "metadata": {
        "colab": {
          "base_uri": "https://localhost:8080/"
        },
        "id": "3S-NeDKkMBAF",
        "outputId": "3bfbf97c-0750-4e3e-bee3-2840f64b31d2"
      },
      "execution_count": null,
      "outputs": [
        {
          "output_type": "stream",
          "name": "stdout",
          "text": [
            "Epoch 1/10\n",
            "7900/7900 [==============================] - 105s 13ms/step - loss: 0.5352 - accuracy: 0.8492 - val_loss: 0.2130 - val_accuracy: 0.9370\n",
            "Epoch 2/10\n",
            "7900/7900 [==============================] - 104s 13ms/step - loss: 0.1930 - accuracy: 0.9443 - val_loss: 0.1276 - val_accuracy: 0.9580\n",
            "Epoch 3/10\n",
            "7900/7900 [==============================] - 109s 14ms/step - loss: 0.1471 - accuracy: 0.9566 - val_loss: 0.1099 - val_accuracy: 0.9669\n",
            "Epoch 4/10\n",
            "7900/7900 [==============================] - 109s 14ms/step - loss: 0.1300 - accuracy: 0.9605 - val_loss: 0.1045 - val_accuracy: 0.9665\n",
            "Epoch 5/10\n",
            "7900/7900 [==============================] - 109s 14ms/step - loss: 0.1235 - accuracy: 0.9621 - val_loss: 0.1369 - val_accuracy: 0.9581\n",
            "Epoch 6/10\n",
            "7900/7900 [==============================] - 106s 13ms/step - loss: 0.1105 - accuracy: 0.9651 - val_loss: 0.0870 - val_accuracy: 0.9725\n",
            "Epoch 7/10\n",
            "7900/7900 [==============================] - 108s 14ms/step - loss: 0.2863 - accuracy: 0.9128 - val_loss: 0.2573 - val_accuracy: 0.9245\n",
            "Epoch 8/10\n",
            "7900/7900 [==============================] - 106s 13ms/step - loss: 0.1951 - accuracy: 0.9452 - val_loss: 0.1383 - val_accuracy: 0.9594\n",
            "Epoch 9/10\n",
            "3052/7900 [==========>...................] - ETA: 1:00 - loss: 0.1517 - accuracy: 0.9573"
          ]
        }
      ]
    },
    {
      "cell_type": "code",
      "source": [
        "fig, ax = plt.subplots(1,2, figsize=(16,8))\n",
        "ax[0].plot(history.history['loss'], color='b', label=\"Training loss\")\n",
        "ax[0].plot(history.history['val_loss'], color='r', label=\"validation loss\",axes =ax[0])\n",
        "legend = ax[0].legend(loc='best', shadow=True)\n",
        "\n",
        "ax[1].plot(history.history['accuracy'], color='b', label=\"Training accuracy\")\n",
        "ax[1].plot(history.history['val_accuracy'], color='r',label=\"Validation accuracy\")\n",
        "legend = ax[1].legend(loc='best', shadow=True)"
      ],
      "metadata": {
        "id": "kpgQ2ngNMDX6",
        "colab": {
          "base_uri": "https://localhost:8080/",
          "height": 236
        },
        "outputId": "0fcdcc97-6f0a-4730-f1f7-b906b96106b1"
      },
      "execution_count": 1,
      "outputs": [
        {
          "output_type": "error",
          "ename": "NameError",
          "evalue": "ignored",
          "traceback": [
            "\u001b[0;31m---------------------------------------------------------------------------\u001b[0m",
            "\u001b[0;31mNameError\u001b[0m                                 Traceback (most recent call last)",
            "\u001b[0;32m<ipython-input-1-9fc4e32c0cac>\u001b[0m in \u001b[0;36m<module>\u001b[0;34m\u001b[0m\n\u001b[0;32m----> 1\u001b[0;31m \u001b[0mfig\u001b[0m\u001b[0;34m,\u001b[0m \u001b[0max\u001b[0m \u001b[0;34m=\u001b[0m \u001b[0mplt\u001b[0m\u001b[0;34m.\u001b[0m\u001b[0msubplots\u001b[0m\u001b[0;34m(\u001b[0m\u001b[0;36m1\u001b[0m\u001b[0;34m,\u001b[0m\u001b[0;36m2\u001b[0m\u001b[0;34m,\u001b[0m \u001b[0mfigsize\u001b[0m\u001b[0;34m=\u001b[0m\u001b[0;34m(\u001b[0m\u001b[0;36m16\u001b[0m\u001b[0;34m,\u001b[0m\u001b[0;36m8\u001b[0m\u001b[0;34m)\u001b[0m\u001b[0;34m)\u001b[0m\u001b[0;34m\u001b[0m\u001b[0;34m\u001b[0m\u001b[0m\n\u001b[0m\u001b[1;32m      2\u001b[0m \u001b[0max\u001b[0m\u001b[0;34m[\u001b[0m\u001b[0;36m0\u001b[0m\u001b[0;34m]\u001b[0m\u001b[0;34m.\u001b[0m\u001b[0mplot\u001b[0m\u001b[0;34m(\u001b[0m\u001b[0mhistory\u001b[0m\u001b[0;34m.\u001b[0m\u001b[0mhistory\u001b[0m\u001b[0;34m[\u001b[0m\u001b[0;34m'loss'\u001b[0m\u001b[0;34m]\u001b[0m\u001b[0;34m,\u001b[0m \u001b[0mcolor\u001b[0m\u001b[0;34m=\u001b[0m\u001b[0;34m'b'\u001b[0m\u001b[0;34m,\u001b[0m \u001b[0mlabel\u001b[0m\u001b[0;34m=\u001b[0m\u001b[0;34m\"Training loss\"\u001b[0m\u001b[0;34m)\u001b[0m\u001b[0;34m\u001b[0m\u001b[0;34m\u001b[0m\u001b[0m\n\u001b[1;32m      3\u001b[0m \u001b[0max\u001b[0m\u001b[0;34m[\u001b[0m\u001b[0;36m0\u001b[0m\u001b[0;34m]\u001b[0m\u001b[0;34m.\u001b[0m\u001b[0mplot\u001b[0m\u001b[0;34m(\u001b[0m\u001b[0mhistory\u001b[0m\u001b[0;34m.\u001b[0m\u001b[0mhistory\u001b[0m\u001b[0;34m[\u001b[0m\u001b[0;34m'val_loss'\u001b[0m\u001b[0;34m]\u001b[0m\u001b[0;34m,\u001b[0m \u001b[0mcolor\u001b[0m\u001b[0;34m=\u001b[0m\u001b[0;34m'r'\u001b[0m\u001b[0;34m,\u001b[0m \u001b[0mlabel\u001b[0m\u001b[0;34m=\u001b[0m\u001b[0;34m\"validation loss\"\u001b[0m\u001b[0;34m,\u001b[0m\u001b[0maxes\u001b[0m \u001b[0;34m=\u001b[0m\u001b[0max\u001b[0m\u001b[0;34m[\u001b[0m\u001b[0;36m0\u001b[0m\u001b[0;34m]\u001b[0m\u001b[0;34m)\u001b[0m\u001b[0;34m\u001b[0m\u001b[0;34m\u001b[0m\u001b[0m\n\u001b[1;32m      4\u001b[0m \u001b[0mlegend\u001b[0m \u001b[0;34m=\u001b[0m \u001b[0max\u001b[0m\u001b[0;34m[\u001b[0m\u001b[0;36m0\u001b[0m\u001b[0;34m]\u001b[0m\u001b[0;34m.\u001b[0m\u001b[0mlegend\u001b[0m\u001b[0;34m(\u001b[0m\u001b[0mloc\u001b[0m\u001b[0;34m=\u001b[0m\u001b[0;34m'best'\u001b[0m\u001b[0;34m,\u001b[0m \u001b[0mshadow\u001b[0m\u001b[0;34m=\u001b[0m\u001b[0;32mTrue\u001b[0m\u001b[0;34m)\u001b[0m\u001b[0;34m\u001b[0m\u001b[0;34m\u001b[0m\u001b[0m\n\u001b[1;32m      5\u001b[0m \u001b[0;34m\u001b[0m\u001b[0m\n",
            "\u001b[0;31mNameError\u001b[0m: name 'plt' is not defined"
          ]
        }
      ]
    },
    {
      "cell_type": "code",
      "source": [
        "from sklearn.metrics import classification_report, confusion_matrix\n",
        "\n",
        "score = model.evaluate(x_val, y_val, verbose=0)\n",
        "print('Test loss:', score[0])\n",
        "print('Test accuracy:', score[1])"
      ],
      "metadata": {
        "id": "SZ4J_iiHMFZm"
      },
      "execution_count": null,
      "outputs": []
    },
    {
      "cell_type": "code",
      "source": [
        "score = model.evaluate(x_test, y_test, verbose=0)\n",
        "print('Test loss:', score[0])\n",
        "print('Test accuracy:', score[1])"
      ],
      "metadata": {
        "id": "OOwcFYVUMJuH",
        "colab": {
          "base_uri": "https://localhost:8080/",
          "height": 201
        },
        "outputId": "b742d0ba-7bf3-4451-b1c9-122a8df5fdc1"
      },
      "execution_count": 2,
      "outputs": [
        {
          "output_type": "error",
          "ename": "NameError",
          "evalue": "ignored",
          "traceback": [
            "\u001b[0;31m---------------------------------------------------------------------------\u001b[0m",
            "\u001b[0;31mNameError\u001b[0m                                 Traceback (most recent call last)",
            "\u001b[0;32m<ipython-input-2-557703b66ce1>\u001b[0m in \u001b[0;36m<module>\u001b[0;34m\u001b[0m\n\u001b[0;32m----> 1\u001b[0;31m \u001b[0mscore\u001b[0m \u001b[0;34m=\u001b[0m \u001b[0mmodel\u001b[0m\u001b[0;34m.\u001b[0m\u001b[0mevaluate\u001b[0m\u001b[0;34m(\u001b[0m\u001b[0mx_test\u001b[0m\u001b[0;34m,\u001b[0m \u001b[0my_test\u001b[0m\u001b[0;34m,\u001b[0m \u001b[0mverbose\u001b[0m\u001b[0;34m=\u001b[0m\u001b[0;36m0\u001b[0m\u001b[0;34m)\u001b[0m\u001b[0;34m\u001b[0m\u001b[0;34m\u001b[0m\u001b[0m\n\u001b[0m\u001b[1;32m      2\u001b[0m \u001b[0mprint\u001b[0m\u001b[0;34m(\u001b[0m\u001b[0;34m'Test loss:'\u001b[0m\u001b[0;34m,\u001b[0m \u001b[0mscore\u001b[0m\u001b[0;34m[\u001b[0m\u001b[0;36m0\u001b[0m\u001b[0;34m]\u001b[0m\u001b[0;34m)\u001b[0m\u001b[0;34m\u001b[0m\u001b[0;34m\u001b[0m\u001b[0m\n\u001b[1;32m      3\u001b[0m \u001b[0mprint\u001b[0m\u001b[0;34m(\u001b[0m\u001b[0;34m'Test accuracy:'\u001b[0m\u001b[0;34m,\u001b[0m \u001b[0mscore\u001b[0m\u001b[0;34m[\u001b[0m\u001b[0;36m1\u001b[0m\u001b[0;34m]\u001b[0m\u001b[0;34m)\u001b[0m\u001b[0;34m\u001b[0m\u001b[0;34m\u001b[0m\u001b[0m\n",
            "\u001b[0;31mNameError\u001b[0m: name 'model' is not defined"
          ]
        }
      ]
    },
    {
      "cell_type": "code",
      "source": [
        "# Classification\n",
        "y_pred = model.predict(x_test)\n",
        "\n",
        "y_pred"
      ],
      "metadata": {
        "id": "VG7qCFHJMLe7"
      },
      "execution_count": null,
      "outputs": []
    },
    {
      "cell_type": "code",
      "source": [
        "\n",
        "for i in range(0,len(y_pred)):\n",
        "# Get the index of the maximum value in the output list\n",
        "  max_index = np.argmax(y_pred[i])\n",
        "  # Create a binary vector with the maximum value as 1 and other values as 0\n",
        "  y_pred[i] = np.zeros(len(y_pred[i]))\n",
        "\n",
        "  y_pred[i][max_index] = 1"
      ],
      "metadata": {
        "id": "yDh7eThIMMDp",
        "colab": {
          "base_uri": "https://localhost:8080/",
          "height": 236
        },
        "outputId": "22cf1735-b4c0-4f19-d418-696f08bf0c35"
      },
      "execution_count": 3,
      "outputs": [
        {
          "output_type": "error",
          "ename": "NameError",
          "evalue": "ignored",
          "traceback": [
            "\u001b[0;31m---------------------------------------------------------------------------\u001b[0m",
            "\u001b[0;31mNameError\u001b[0m                                 Traceback (most recent call last)",
            "\u001b[0;32m<ipython-input-3-ab78d1411074>\u001b[0m in \u001b[0;36m<module>\u001b[0;34m\u001b[0m\n\u001b[0;32m----> 1\u001b[0;31m \u001b[0;32mfor\u001b[0m \u001b[0mi\u001b[0m \u001b[0;32min\u001b[0m \u001b[0mrange\u001b[0m\u001b[0;34m(\u001b[0m\u001b[0;36m0\u001b[0m\u001b[0;34m,\u001b[0m\u001b[0mlen\u001b[0m\u001b[0;34m(\u001b[0m\u001b[0my_pred\u001b[0m\u001b[0;34m)\u001b[0m\u001b[0;34m)\u001b[0m\u001b[0;34m:\u001b[0m\u001b[0;34m\u001b[0m\u001b[0;34m\u001b[0m\u001b[0m\n\u001b[0m\u001b[1;32m      2\u001b[0m \u001b[0;31m# Get the index of the maximum value in the output list\u001b[0m\u001b[0;34m\u001b[0m\u001b[0;34m\u001b[0m\u001b[0;34m\u001b[0m\u001b[0m\n\u001b[1;32m      3\u001b[0m   \u001b[0mmax_index\u001b[0m \u001b[0;34m=\u001b[0m \u001b[0mnp\u001b[0m\u001b[0;34m.\u001b[0m\u001b[0margmax\u001b[0m\u001b[0;34m(\u001b[0m\u001b[0my_pred\u001b[0m\u001b[0;34m[\u001b[0m\u001b[0mi\u001b[0m\u001b[0;34m]\u001b[0m\u001b[0;34m)\u001b[0m\u001b[0;34m\u001b[0m\u001b[0;34m\u001b[0m\u001b[0m\n\u001b[1;32m      4\u001b[0m   \u001b[0;31m# Create a binary vector with the maximum value as 1 and other values as 0\u001b[0m\u001b[0;34m\u001b[0m\u001b[0;34m\u001b[0m\u001b[0;34m\u001b[0m\u001b[0m\n\u001b[1;32m      5\u001b[0m   \u001b[0my_pred\u001b[0m\u001b[0;34m[\u001b[0m\u001b[0mi\u001b[0m\u001b[0;34m]\u001b[0m \u001b[0;34m=\u001b[0m \u001b[0mnp\u001b[0m\u001b[0;34m.\u001b[0m\u001b[0mzeros\u001b[0m\u001b[0;34m(\u001b[0m\u001b[0mlen\u001b[0m\u001b[0;34m(\u001b[0m\u001b[0my_pred\u001b[0m\u001b[0;34m[\u001b[0m\u001b[0mi\u001b[0m\u001b[0;34m]\u001b[0m\u001b[0;34m)\u001b[0m\u001b[0;34m)\u001b[0m\u001b[0;34m\u001b[0m\u001b[0;34m\u001b[0m\u001b[0m\n",
            "\u001b[0;31mNameError\u001b[0m: name 'y_pred' is not defined"
          ]
        }
      ]
    },
    {
      "cell_type": "code",
      "source": [
        "labels = ['Bathroom|Cleaning',\n",
        " 'Bathroom|Showering',\n",
        " 'Bathroom|Using_the_sink',\n",
        " 'Bathroom|Using_the_toilet',\n",
        " 'Bedroom|Cleaning',\n",
        " 'Bedroom|Dressing',\n",
        " 'Bedroom|Napping',\n",
        " 'Bedroom|Reading',\n",
        " 'Entrance|Entering',\n",
        " 'Entrance|Leaving',\n",
        " 'Kitchen|Cleaning',\n",
        " 'Kitchen|Cooking',\n",
        " 'Kitchen|Preparing',\n",
        " 'Kitchen|Washing_the_dishes',\n",
        " 'Living_room|Cleaning',\n",
        " 'Living_room|Computing',\n",
        " 'Living_room|Eating',\n",
        " 'Living_room|Watching_TV',\n",
        " 'Office|Cleaning',\n",
        " 'Office|Computing',\n",
        " 'Office|Watching_TV',\n",
        " 'Staircase|Going_down',\n",
        " 'Staircase|Going_up',\n",
        " 'Toilet|Using_the_toilet',\n",
        " 'Transition']"
      ],
      "metadata": {
        "id": "-nXzCNuDMObr"
      },
      "execution_count": null,
      "outputs": []
    },
    {
      "cell_type": "code",
      "source": [
        "df_pred = pd.DataFrame( y_pred,columns=labels)"
      ],
      "metadata": {
        "id": "78nXxMZBMQ8T"
      },
      "execution_count": null,
      "outputs": []
    },
    {
      "cell_type": "code",
      "source": [
        "df_pred"
      ],
      "metadata": {
        "id": "Xk7XDcdCMSB2"
      },
      "execution_count": null,
      "outputs": []
    },
    {
      "cell_type": "code",
      "source": [
        "original_array_pred = df_pred.idxmax(axis=1)"
      ],
      "metadata": {
        "id": "qh7rQTw8MTQv"
      },
      "execution_count": null,
      "outputs": []
    },
    {
      "cell_type": "code",
      "source": [
        "original_array_pred\n"
      ],
      "metadata": {
        "id": "BX7Nv9ICMUk9"
      },
      "execution_count": null,
      "outputs": []
    },
    {
      "cell_type": "code",
      "source": [
        "df_test = pd.DataFrame( y_test,columns=labels)\n",
        "original_array_test = df_test.idxmax(axis=1)\n",
        "original_array_test"
      ],
      "metadata": {
        "id": "JiYphieuMXMV"
      },
      "execution_count": null,
      "outputs": []
    },
    {
      "cell_type": "code",
      "source": [
        "cm = confusion_matrix(original_array_test,original_array_pred)"
      ],
      "metadata": {
        "id": "4AAgShFdMYfp"
      },
      "execution_count": null,
      "outputs": []
    },
    {
      "cell_type": "code",
      "source": [
        "df_cm = pd.DataFrame( cm,columns=labels, index=labels)"
      ],
      "metadata": {
        "id": "eBy-f20_MZXb"
      },
      "execution_count": null,
      "outputs": []
    },
    {
      "cell_type": "code",
      "source": [
        "df_cm"
      ],
      "metadata": {
        "id": "mH-37OcLMaa1"
      },
      "execution_count": null,
      "outputs": []
    },
    {
      "cell_type": "code",
      "source": [
        "df_cm.to_csv(\"confusion_matrix_GRU_ANOVA_200.csv\",index=True)"
      ],
      "metadata": {
        "id": "0stCDi-xMbeo"
      },
      "execution_count": null,
      "outputs": []
    },
    {
      "cell_type": "code",
      "source": [
        "# y_true and y_pred are your true and predicted labels, respectively\n",
        "report = classification_report(y_test, y_pred, target_names=labels, output_dict=True)\n",
        "\n",
        "# Calculate the weighted average of precision, recall, and F1 score\n",
        "precision = report['weighted avg']['precision']\n",
        "recall = report['weighted avg']['recall']\n",
        "f1_score = report['weighted avg']['f1-score']"
      ],
      "metadata": {
        "id": "9rXejlM3M78o"
      },
      "execution_count": null,
      "outputs": []
    },
    {
      "cell_type": "code",
      "source": [
        "weights = np.sum(y_test, axis=0)\n",
        "precision_weighted = np.sum(precision * weights) / np.sum(weights)\n",
        "recall_weighted = np.sum(recall * weights) / np.sum(weights)\n",
        "f1_score_weighted = np.sum(f1_score * weights) / np.sum(weights)\n",
        "\n",
        "print(\"Precision:\", precision_weighted)\n",
        "print(\"Recall:\", recall_weighted)\n",
        "print(\"F1 score:\", f1_score_weighted)"
      ],
      "metadata": {
        "id": "48oAObc3M_2s"
      },
      "execution_count": null,
      "outputs": []
    },
    {
      "cell_type": "code",
      "source": [
        "from sklearn.metrics import accuracy_score\n",
        "\n",
        "# Calculate accuracy\n",
        "accuracy = accuracy_score(y_test, y_pred)\n",
        "print(\"Accuracy:\", accuracy)"
      ],
      "metadata": {
        "id": "BG7ZWmhLNByI"
      },
      "execution_count": null,
      "outputs": []
    },
    {
      "cell_type": "code",
      "source": [],
      "metadata": {
        "id": "P7CGsXINNeUG"
      },
      "execution_count": null,
      "outputs": []
    }
  ]
}